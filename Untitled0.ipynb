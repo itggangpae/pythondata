{
  "nbformat": 4,
  "nbformat_minor": 0,
  "metadata": {
    "colab": {
      "name": "Untitled0.ipynb",
      "provenance": [],
      "authorship_tag": "ABX9TyM4tsh2QCZKdzTdJtlPhmb4",
      "include_colab_link": true
    },
    "kernelspec": {
      "name": "python3",
      "display_name": "Python 3"
    },
    "language_info": {
      "name": "python"
    }
  },
  "cells": [
    {
      "cell_type": "markdown",
      "metadata": {
        "id": "view-in-github",
        "colab_type": "text"
      },
      "source": [
        "<a href=\"https://colab.research.google.com/github/itggangpae/pythondata/blob/main/Untitled0.ipynb\" target=\"_parent\"><img src=\"https://colab.research.google.com/assets/colab-badge.svg\" alt=\"Open In Colab\"/></a>"
      ]
    },
    {
      "cell_type": "code",
      "metadata": {
        "id": "YA68Giwe2WG1"
      },
      "source": [
        "#content 디렉토리에 업로드 된 cat-and-dog.zip 압축을 해제\n",
        "import shutil\n",
        "#첫번째 매개변수는 압축을 해제할 zip 파일의 경로이도\n",
        "#두번째 매개변수는 압축을 해제한 내용이 저장될 디렉토리 경로\n",
        "shutil.unpack_archive('/content/sample_data/cat-and-dog.zip', \n",
        "                      'datasets/')"
      ],
      "execution_count": null,
      "outputs": []
    },
    {
      "cell_type": "code",
      "metadata": {
        "colab": {
          "base_uri": "https://localhost:8080/"
        },
        "id": "E18dsW4g7fN_",
        "outputId": "2e272f92-6494-4153-e351-f9aff8fda5c8"
      },
      "source": [
        "train_dir = '/content/datasets/archive/training_set/training_set'\n",
        "valid_dir = '/content/datasets/archive/test_set/test_set'\n",
        "print(train_dir)\n",
        "print(valid_dir)"
      ],
      "execution_count": null,
      "outputs": [
        {
          "output_type": "stream",
          "text": [
            "/content/datasets/archive/training_set/training_set\n",
            "/content/datasets/archive/test_set/test_set\n"
          ],
          "name": "stdout"
        }
      ]
    }
  ]
}